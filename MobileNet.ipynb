{
  "nbformat": 4,
  "nbformat_minor": 0,
  "metadata": {
    "colab": {
      "provenance": []
    },
    "kernelspec": {
      "name": "python3",
      "display_name": "Python 3"
    },
    "language_info": {
      "name": "python"
    }
  },
  "cells": [
    {
      "cell_type": "code",
      "execution_count": 1,
      "metadata": {
        "id": "d39FKAqyMuAD"
      },
      "outputs": [],
      "source": [
        "import numpy as np\n",
        "import tensorflow as tf\n",
        "from tensorflow import keras\n",
        "from tensorflow.keras import layers\n",
        "from tensorflow.keras.preprocessing.image import ImageDataGenerator\n",
        "import os, glob\n",
        "import numpy as np\n",
        "import seaborn as sns\n",
        "import matplotlib.pyplot as plt\n",
        "import pandas as pd\n",
        "from keras.preprocessing.image import ImageDataGenerator\n",
        "from keras.models import Model\n",
        "from keras.layers import Conv2D, MaxPooling2D, Flatten, Dense, Dropout\n",
        "from keras.callbacks import Callback,EarlyStopping\n",
        "from sklearn.metrics import  classification_report\n",
        "from tensorflow.keras.applications import MobileNetV2"
      ]
    },
    {
      "cell_type": "code",
      "source": [
        "file_path=\"/content/drive/MyDrive/data/Plant Diseases Dataset/Plant Diseases Dataset/train\"\n",
        "train_image_path=\"/content/drive/MyDrive/data/Plant Diseases Dataset/Plant Diseases Dataset/train\"\n",
        "valid_image_path=\"/content/drive/MyDrive/data/Plant Diseases Dataset/Plant Diseases Dataset/valid\"\n",
        "test_image_path=\"/content/drive/MyDrive/data/test\""
      ],
      "metadata": {
        "id": "C6_Tuc-DM9KH"
      },
      "execution_count": 2,
      "outputs": []
    },
    {
      "cell_type": "code",
      "source": [
        "name_class = os.listdir(file_path)\n",
        "name_class"
      ],
      "metadata": {
        "colab": {
          "base_uri": "https://localhost:8080/",
          "height": 0
        },
        "id": "5ejL_hokM9L1",
        "outputId": "5eb94c60-16f6-4cb0-be9a-b0cca76acee4"
      },
      "execution_count": 3,
      "outputs": [
        {
          "output_type": "execute_result",
          "data": {
            "text/plain": [
              "['Apple___Apple_scab',\n",
              " 'Apple___Black_rot',\n",
              " 'Apple___healthy',\n",
              " 'Apple___Cedar_apple_rust',\n",
              " 'Cherry_(including_sour)___healthy',\n",
              " 'Grape___Black_rot',\n",
              " 'Corn_(maize)___Common_rust_',\n",
              " 'Corn_(maize)___healthy',\n",
              " 'Blueberry___healthy',\n",
              " 'Corn_(maize)___Cercospora_leaf_spot Gray_leaf_spot',\n",
              " 'Corn_(maize)___Northern_Leaf_Blight',\n",
              " 'Cherry_(including_sour)___Powdery_mildew',\n",
              " 'Grape___healthy',\n",
              " 'Grape___Esca_(Black_Measles)',\n",
              " 'Peach___Bacterial_spot',\n",
              " 'Potato___healthy',\n",
              " 'Pepper,_bell___healthy',\n",
              " 'Potato___Early_blight',\n",
              " 'Orange___Haunglongbing_(Citrus_greening)',\n",
              " 'Pepper,_bell___Bacterial_spot',\n",
              " 'Peach___healthy',\n",
              " 'Grape___Leaf_blight_(Isariopsis_Leaf_Spot)',\n",
              " 'Potato___Late_blight',\n",
              " 'Raspberry___healthy',\n",
              " 'Strawberry___Leaf_scorch',\n",
              " 'Strawberry___healthy',\n",
              " 'Tomato___healthy',\n",
              " 'Tomato___Late_blight',\n",
              " 'Tomato___Bacterial_spot',\n",
              " 'Soybean___healthy',\n",
              " 'Tomato___Early_blight',\n",
              " 'Squash___Powdery_mildew',\n",
              " 'Tomato___Leaf_Mold',\n",
              " 'Tomato___Septoria_leaf_spot',\n",
              " 'Tomato___Tomato_Yellow_Leaf_Curl_Virus',\n",
              " 'Tomato___Target_Spot',\n",
              " 'Tomato___Spider_mites Two-spotted_spider_mite',\n",
              " 'Tomato___Tomato_mosaic_virus']"
            ]
          },
          "metadata": {},
          "execution_count": 3
        }
      ]
    },
    {
      "cell_type": "code",
      "source": [
        "import keras\n",
        "from keras.preprocessing.image import ImageDataGenerator , img_to_array , load_img"
      ],
      "metadata": {
        "id": "fM2F3xHbM9Or"
      },
      "execution_count": 4,
      "outputs": []
    },
    {
      "cell_type": "code",
      "source": [
        "#EXPLORATORY DATA ANALYTICS\n",
        "os.listdir(\"/content/drive/MyDrive/data/Plant Diseases Dataset/Plant Diseases Dataset/train\")"
      ],
      "metadata": {
        "colab": {
          "base_uri": "https://localhost:8080/",
          "height": 0
        },
        "id": "8acGQEajM9Qg",
        "outputId": "69581b49-5ca3-4f54-a754-1104f4b9e4b3"
      },
      "execution_count": 5,
      "outputs": [
        {
          "output_type": "execute_result",
          "data": {
            "text/plain": [
              "['Apple___Apple_scab',\n",
              " 'Apple___Black_rot',\n",
              " 'Apple___healthy',\n",
              " 'Apple___Cedar_apple_rust',\n",
              " 'Cherry_(including_sour)___healthy',\n",
              " 'Grape___Black_rot',\n",
              " 'Corn_(maize)___Common_rust_',\n",
              " 'Corn_(maize)___healthy',\n",
              " 'Blueberry___healthy',\n",
              " 'Corn_(maize)___Cercospora_leaf_spot Gray_leaf_spot',\n",
              " 'Corn_(maize)___Northern_Leaf_Blight',\n",
              " 'Cherry_(including_sour)___Powdery_mildew',\n",
              " 'Grape___healthy',\n",
              " 'Grape___Esca_(Black_Measles)',\n",
              " 'Peach___Bacterial_spot',\n",
              " 'Potato___healthy',\n",
              " 'Pepper,_bell___healthy',\n",
              " 'Potato___Early_blight',\n",
              " 'Orange___Haunglongbing_(Citrus_greening)',\n",
              " 'Pepper,_bell___Bacterial_spot',\n",
              " 'Peach___healthy',\n",
              " 'Grape___Leaf_blight_(Isariopsis_Leaf_Spot)',\n",
              " 'Potato___Late_blight',\n",
              " 'Raspberry___healthy',\n",
              " 'Strawberry___Leaf_scorch',\n",
              " 'Strawberry___healthy',\n",
              " 'Tomato___healthy',\n",
              " 'Tomato___Late_blight',\n",
              " 'Tomato___Bacterial_spot',\n",
              " 'Soybean___healthy',\n",
              " 'Tomato___Early_blight',\n",
              " 'Squash___Powdery_mildew',\n",
              " 'Tomato___Leaf_Mold',\n",
              " 'Tomato___Septoria_leaf_spot',\n",
              " 'Tomato___Tomato_Yellow_Leaf_Curl_Virus',\n",
              " 'Tomato___Target_Spot',\n",
              " 'Tomato___Spider_mites Two-spotted_spider_mite',\n",
              " 'Tomato___Tomato_mosaic_virus']"
            ]
          },
          "metadata": {},
          "execution_count": 5
        }
      ]
    },
    {
      "cell_type": "code",
      "source": [
        "len(os.listdir(\"/content/drive/MyDrive/data/Plant Diseases Dataset/Plant Diseases Dataset/train\"))"
      ],
      "metadata": {
        "colab": {
          "base_uri": "https://localhost:8080/",
          "height": 0
        },
        "id": "zD1lffY4M9S2",
        "outputId": "a84702ad-9f58-46c9-9e90-e9d2b9fff7d3"
      },
      "execution_count": 6,
      "outputs": [
        {
          "output_type": "execute_result",
          "data": {
            "text/plain": [
              "38"
            ]
          },
          "metadata": {},
          "execution_count": 6
        }
      ]
    },
    {
      "cell_type": "code",
      "source": [
        "import pandas as pd\n",
        "import numpy as np\n",
        "import matplotlib.pyplot as plt\n",
        "import os\n",
        "import tensorflow as tf\n",
        "from tensorflow import keras\n",
        "from tensorflow.keras import layers\n",
        "from tensorflow.keras.preprocessing.image import ImageDataGenerator\n",
        "from sklearn.model_selection import train_test_split\n",
        "from keras.applications.vgg19 import VGG19, preprocess_input , decode_predictions"
      ],
      "metadata": {
        "id": "frcsdQEMM9Uf"
      },
      "execution_count": 7,
      "outputs": []
    },
    {
      "cell_type": "code",
      "source": [
        "train_datagen = ImageDataGenerator(zoom_range=0.5,shear_range=0.3, horizontal_flip=True, preprocessing_function=preprocess_input)\n",
        "val_datagen = ImageDataGenerator(preprocessing_function=preprocess_input)"
      ],
      "metadata": {
        "id": "7HnnR59zM9XG"
      },
      "execution_count": 8,
      "outputs": []
    },
    {
      "cell_type": "code",
      "source": [
        "train = train_datagen.flow_from_directory(directory= \"/content/drive/MyDrive/data/Plant Diseases Dataset/Plant Diseases Dataset/train\", target_size=(256,256),batch_size=32)\n",
        "val = val_datagen.flow_from_directory(directory= \"/content/drive/MyDrive/data/Plant Diseases Dataset/Plant Diseases Dataset/valid\", target_size=(256,256),batch_size=32)"
      ],
      "metadata": {
        "colab": {
          "base_uri": "https://localhost:8080/",
          "height": 0
        },
        "id": "bCpbE9peM9Yw",
        "outputId": "593351bf-b6ee-4734-ab54-5c5f1a106027"
      },
      "execution_count": 9,
      "outputs": [
        {
          "output_type": "stream",
          "name": "stdout",
          "text": [
            "Found 70312 images belonging to 38 classes.\n",
            "Found 17572 images belonging to 38 classes.\n"
          ]
        }
      ]
    },
    {
      "cell_type": "code",
      "source": [
        "t_img , label = train.next()\n",
        "t_img.shape"
      ],
      "metadata": {
        "colab": {
          "base_uri": "https://localhost:8080/",
          "height": 0
        },
        "id": "J8DVk7LHM9bQ",
        "outputId": "f855daaa-0e0d-41b9-d4c0-d5f08bcaba2b"
      },
      "execution_count": 10,
      "outputs": [
        {
          "output_type": "execute_result",
          "data": {
            "text/plain": [
              "(32, 256, 256, 3)"
            ]
          },
          "metadata": {},
          "execution_count": 10
        }
      ]
    },
    {
      "cell_type": "code",
      "source": [
        "base_model = MobileNetV2(input_shape=(256,256,3), weights='imagenet', include_top=False)"
      ],
      "metadata": {
        "colab": {
          "base_uri": "https://localhost:8080/",
          "height": 0
        },
        "id": "dY0XgV2BOX0g",
        "outputId": "898b7aa1-02a5-41ef-e91d-577bbcfe7b51"
      },
      "execution_count": 11,
      "outputs": [
        {
          "output_type": "stream",
          "name": "stderr",
          "text": [
            "WARNING:tensorflow:`input_shape` is undefined or non-square, or `rows` is not in [96, 128, 160, 192, 224]. Weights for input shape (224, 224) will be loaded as the default.\n"
          ]
        },
        {
          "output_type": "stream",
          "name": "stdout",
          "text": [
            "Downloading data from https://storage.googleapis.com/tensorflow/keras-applications/mobilenet_v2/mobilenet_v2_weights_tf_dim_ordering_tf_kernels_1.0_224_no_top.h5\n",
            "9406464/9406464 [==============================] - 0s 0us/step\n"
          ]
        }
      ]
    },
    {
      "cell_type": "code",
      "source": [
        "for layer in base_model.layers:\n",
        "  layer.trainable = False"
      ],
      "metadata": {
        "id": "rgsQyV2YQK2f"
      },
      "execution_count": 12,
      "outputs": []
    },
    {
      "cell_type": "code",
      "source": [
        "from tensorflow.keras.layers import GlobalAveragePooling2D\n",
        "\n",
        "x = GlobalAveragePooling2D()(base_model.output)\n",
        "x = Dense(128, activation='relu')(x)  # Add additional layers as needed\n",
        "output = Dense(38, activation='softmax')(x)\n",
        "model = Model(inputs=base_model.input, outputs=output)\n"
      ],
      "metadata": {
        "id": "qwTXzdeCQK4R"
      },
      "execution_count": 14,
      "outputs": []
    },
    {
      "cell_type": "code",
      "source": [
        "model.summary()"
      ],
      "metadata": {
        "colab": {
          "base_uri": "https://localhost:8080/",
          "height": 0
        },
        "id": "eAoW_ycCQK--",
        "outputId": "30849f4b-d29d-4267-afb4-7d49be84b6df"
      },
      "execution_count": 15,
      "outputs": [
        {
          "output_type": "stream",
          "name": "stdout",
          "text": [
            "Model: \"model\"\n",
            "__________________________________________________________________________________________________\n",
            " Layer (type)                Output Shape                 Param #   Connected to                  \n",
            "==================================================================================================\n",
            " input_1 (InputLayer)        [(None, 256, 256, 3)]        0         []                            \n",
            "                                                                                                  \n",
            " Conv1 (Conv2D)              (None, 128, 128, 32)         864       ['input_1[0][0]']             \n",
            "                                                                                                  \n",
            " bn_Conv1 (BatchNormalizati  (None, 128, 128, 32)         128       ['Conv1[0][0]']               \n",
            " on)                                                                                              \n",
            "                                                                                                  \n",
            " Conv1_relu (ReLU)           (None, 128, 128, 32)         0         ['bn_Conv1[0][0]']            \n",
            "                                                                                                  \n",
            " expanded_conv_depthwise (D  (None, 128, 128, 32)         288       ['Conv1_relu[0][0]']          \n",
            " epthwiseConv2D)                                                                                  \n",
            "                                                                                                  \n",
            " expanded_conv_depthwise_BN  (None, 128, 128, 32)         128       ['expanded_conv_depthwise[0][0\n",
            "  (BatchNormalization)                                              ]']                           \n",
            "                                                                                                  \n",
            " expanded_conv_depthwise_re  (None, 128, 128, 32)         0         ['expanded_conv_depthwise_BN[0\n",
            " lu (ReLU)                                                          ][0]']                        \n",
            "                                                                                                  \n",
            " expanded_conv_project (Con  (None, 128, 128, 16)         512       ['expanded_conv_depthwise_relu\n",
            " v2D)                                                               [0][0]']                      \n",
            "                                                                                                  \n",
            " expanded_conv_project_BN (  (None, 128, 128, 16)         64        ['expanded_conv_project[0][0]'\n",
            " BatchNormalization)                                                ]                             \n",
            "                                                                                                  \n",
            " block_1_expand (Conv2D)     (None, 128, 128, 96)         1536      ['expanded_conv_project_BN[0][\n",
            "                                                                    0]']                          \n",
            "                                                                                                  \n",
            " block_1_expand_BN (BatchNo  (None, 128, 128, 96)         384       ['block_1_expand[0][0]']      \n",
            " rmalization)                                                                                     \n",
            "                                                                                                  \n",
            " block_1_expand_relu (ReLU)  (None, 128, 128, 96)         0         ['block_1_expand_BN[0][0]']   \n",
            "                                                                                                  \n",
            " block_1_pad (ZeroPadding2D  (None, 129, 129, 96)         0         ['block_1_expand_relu[0][0]'] \n",
            " )                                                                                                \n",
            "                                                                                                  \n",
            " block_1_depthwise (Depthwi  (None, 64, 64, 96)           864       ['block_1_pad[0][0]']         \n",
            " seConv2D)                                                                                        \n",
            "                                                                                                  \n",
            " block_1_depthwise_BN (Batc  (None, 64, 64, 96)           384       ['block_1_depthwise[0][0]']   \n",
            " hNormalization)                                                                                  \n",
            "                                                                                                  \n",
            " block_1_depthwise_relu (Re  (None, 64, 64, 96)           0         ['block_1_depthwise_BN[0][0]']\n",
            " LU)                                                                                              \n",
            "                                                                                                  \n",
            " block_1_project (Conv2D)    (None, 64, 64, 24)           2304      ['block_1_depthwise_relu[0][0]\n",
            "                                                                    ']                            \n",
            "                                                                                                  \n",
            " block_1_project_BN (BatchN  (None, 64, 64, 24)           96        ['block_1_project[0][0]']     \n",
            " ormalization)                                                                                    \n",
            "                                                                                                  \n",
            " block_2_expand (Conv2D)     (None, 64, 64, 144)          3456      ['block_1_project_BN[0][0]']  \n",
            "                                                                                                  \n",
            " block_2_expand_BN (BatchNo  (None, 64, 64, 144)          576       ['block_2_expand[0][0]']      \n",
            " rmalization)                                                                                     \n",
            "                                                                                                  \n",
            " block_2_expand_relu (ReLU)  (None, 64, 64, 144)          0         ['block_2_expand_BN[0][0]']   \n",
            "                                                                                                  \n",
            " block_2_depthwise (Depthwi  (None, 64, 64, 144)          1296      ['block_2_expand_relu[0][0]'] \n",
            " seConv2D)                                                                                        \n",
            "                                                                                                  \n",
            " block_2_depthwise_BN (Batc  (None, 64, 64, 144)          576       ['block_2_depthwise[0][0]']   \n",
            " hNormalization)                                                                                  \n",
            "                                                                                                  \n",
            " block_2_depthwise_relu (Re  (None, 64, 64, 144)          0         ['block_2_depthwise_BN[0][0]']\n",
            " LU)                                                                                              \n",
            "                                                                                                  \n",
            " block_2_project (Conv2D)    (None, 64, 64, 24)           3456      ['block_2_depthwise_relu[0][0]\n",
            "                                                                    ']                            \n",
            "                                                                                                  \n",
            " block_2_project_BN (BatchN  (None, 64, 64, 24)           96        ['block_2_project[0][0]']     \n",
            " ormalization)                                                                                    \n",
            "                                                                                                  \n",
            " block_2_add (Add)           (None, 64, 64, 24)           0         ['block_1_project_BN[0][0]',  \n",
            "                                                                     'block_2_project_BN[0][0]']  \n",
            "                                                                                                  \n",
            " block_3_expand (Conv2D)     (None, 64, 64, 144)          3456      ['block_2_add[0][0]']         \n",
            "                                                                                                  \n",
            " block_3_expand_BN (BatchNo  (None, 64, 64, 144)          576       ['block_3_expand[0][0]']      \n",
            " rmalization)                                                                                     \n",
            "                                                                                                  \n",
            " block_3_expand_relu (ReLU)  (None, 64, 64, 144)          0         ['block_3_expand_BN[0][0]']   \n",
            "                                                                                                  \n",
            " block_3_pad (ZeroPadding2D  (None, 65, 65, 144)          0         ['block_3_expand_relu[0][0]'] \n",
            " )                                                                                                \n",
            "                                                                                                  \n",
            " block_3_depthwise (Depthwi  (None, 32, 32, 144)          1296      ['block_3_pad[0][0]']         \n",
            " seConv2D)                                                                                        \n",
            "                                                                                                  \n",
            " block_3_depthwise_BN (Batc  (None, 32, 32, 144)          576       ['block_3_depthwise[0][0]']   \n",
            " hNormalization)                                                                                  \n",
            "                                                                                                  \n",
            " block_3_depthwise_relu (Re  (None, 32, 32, 144)          0         ['block_3_depthwise_BN[0][0]']\n",
            " LU)                                                                                              \n",
            "                                                                                                  \n",
            " block_3_project (Conv2D)    (None, 32, 32, 32)           4608      ['block_3_depthwise_relu[0][0]\n",
            "                                                                    ']                            \n",
            "                                                                                                  \n",
            " block_3_project_BN (BatchN  (None, 32, 32, 32)           128       ['block_3_project[0][0]']     \n",
            " ormalization)                                                                                    \n",
            "                                                                                                  \n",
            " block_4_expand (Conv2D)     (None, 32, 32, 192)          6144      ['block_3_project_BN[0][0]']  \n",
            "                                                                                                  \n",
            " block_4_expand_BN (BatchNo  (None, 32, 32, 192)          768       ['block_4_expand[0][0]']      \n",
            " rmalization)                                                                                     \n",
            "                                                                                                  \n",
            " block_4_expand_relu (ReLU)  (None, 32, 32, 192)          0         ['block_4_expand_BN[0][0]']   \n",
            "                                                                                                  \n",
            " block_4_depthwise (Depthwi  (None, 32, 32, 192)          1728      ['block_4_expand_relu[0][0]'] \n",
            " seConv2D)                                                                                        \n",
            "                                                                                                  \n",
            " block_4_depthwise_BN (Batc  (None, 32, 32, 192)          768       ['block_4_depthwise[0][0]']   \n",
            " hNormalization)                                                                                  \n",
            "                                                                                                  \n",
            " block_4_depthwise_relu (Re  (None, 32, 32, 192)          0         ['block_4_depthwise_BN[0][0]']\n",
            " LU)                                                                                              \n",
            "                                                                                                  \n",
            " block_4_project (Conv2D)    (None, 32, 32, 32)           6144      ['block_4_depthwise_relu[0][0]\n",
            "                                                                    ']                            \n",
            "                                                                                                  \n",
            " block_4_project_BN (BatchN  (None, 32, 32, 32)           128       ['block_4_project[0][0]']     \n",
            " ormalization)                                                                                    \n",
            "                                                                                                  \n",
            " block_4_add (Add)           (None, 32, 32, 32)           0         ['block_3_project_BN[0][0]',  \n",
            "                                                                     'block_4_project_BN[0][0]']  \n",
            "                                                                                                  \n",
            " block_5_expand (Conv2D)     (None, 32, 32, 192)          6144      ['block_4_add[0][0]']         \n",
            "                                                                                                  \n",
            " block_5_expand_BN (BatchNo  (None, 32, 32, 192)          768       ['block_5_expand[0][0]']      \n",
            " rmalization)                                                                                     \n",
            "                                                                                                  \n",
            " block_5_expand_relu (ReLU)  (None, 32, 32, 192)          0         ['block_5_expand_BN[0][0]']   \n",
            "                                                                                                  \n",
            " block_5_depthwise (Depthwi  (None, 32, 32, 192)          1728      ['block_5_expand_relu[0][0]'] \n",
            " seConv2D)                                                                                        \n",
            "                                                                                                  \n",
            " block_5_depthwise_BN (Batc  (None, 32, 32, 192)          768       ['block_5_depthwise[0][0]']   \n",
            " hNormalization)                                                                                  \n",
            "                                                                                                  \n",
            " block_5_depthwise_relu (Re  (None, 32, 32, 192)          0         ['block_5_depthwise_BN[0][0]']\n",
            " LU)                                                                                              \n",
            "                                                                                                  \n",
            " block_5_project (Conv2D)    (None, 32, 32, 32)           6144      ['block_5_depthwise_relu[0][0]\n",
            "                                                                    ']                            \n",
            "                                                                                                  \n",
            " block_5_project_BN (BatchN  (None, 32, 32, 32)           128       ['block_5_project[0][0]']     \n",
            " ormalization)                                                                                    \n",
            "                                                                                                  \n",
            " block_5_add (Add)           (None, 32, 32, 32)           0         ['block_4_add[0][0]',         \n",
            "                                                                     'block_5_project_BN[0][0]']  \n",
            "                                                                                                  \n",
            " block_6_expand (Conv2D)     (None, 32, 32, 192)          6144      ['block_5_add[0][0]']         \n",
            "                                                                                                  \n",
            " block_6_expand_BN (BatchNo  (None, 32, 32, 192)          768       ['block_6_expand[0][0]']      \n",
            " rmalization)                                                                                     \n",
            "                                                                                                  \n",
            " block_6_expand_relu (ReLU)  (None, 32, 32, 192)          0         ['block_6_expand_BN[0][0]']   \n",
            "                                                                                                  \n",
            " block_6_pad (ZeroPadding2D  (None, 33, 33, 192)          0         ['block_6_expand_relu[0][0]'] \n",
            " )                                                                                                \n",
            "                                                                                                  \n",
            " block_6_depthwise (Depthwi  (None, 16, 16, 192)          1728      ['block_6_pad[0][0]']         \n",
            " seConv2D)                                                                                        \n",
            "                                                                                                  \n",
            " block_6_depthwise_BN (Batc  (None, 16, 16, 192)          768       ['block_6_depthwise[0][0]']   \n",
            " hNormalization)                                                                                  \n",
            "                                                                                                  \n",
            " block_6_depthwise_relu (Re  (None, 16, 16, 192)          0         ['block_6_depthwise_BN[0][0]']\n",
            " LU)                                                                                              \n",
            "                                                                                                  \n",
            " block_6_project (Conv2D)    (None, 16, 16, 64)           12288     ['block_6_depthwise_relu[0][0]\n",
            "                                                                    ']                            \n",
            "                                                                                                  \n",
            " block_6_project_BN (BatchN  (None, 16, 16, 64)           256       ['block_6_project[0][0]']     \n",
            " ormalization)                                                                                    \n",
            "                                                                                                  \n",
            " block_7_expand (Conv2D)     (None, 16, 16, 384)          24576     ['block_6_project_BN[0][0]']  \n",
            "                                                                                                  \n",
            " block_7_expand_BN (BatchNo  (None, 16, 16, 384)          1536      ['block_7_expand[0][0]']      \n",
            " rmalization)                                                                                     \n",
            "                                                                                                  \n",
            " block_7_expand_relu (ReLU)  (None, 16, 16, 384)          0         ['block_7_expand_BN[0][0]']   \n",
            "                                                                                                  \n",
            " block_7_depthwise (Depthwi  (None, 16, 16, 384)          3456      ['block_7_expand_relu[0][0]'] \n",
            " seConv2D)                                                                                        \n",
            "                                                                                                  \n",
            " block_7_depthwise_BN (Batc  (None, 16, 16, 384)          1536      ['block_7_depthwise[0][0]']   \n",
            " hNormalization)                                                                                  \n",
            "                                                                                                  \n",
            " block_7_depthwise_relu (Re  (None, 16, 16, 384)          0         ['block_7_depthwise_BN[0][0]']\n",
            " LU)                                                                                              \n",
            "                                                                                                  \n",
            " block_7_project (Conv2D)    (None, 16, 16, 64)           24576     ['block_7_depthwise_relu[0][0]\n",
            "                                                                    ']                            \n",
            "                                                                                                  \n",
            " block_7_project_BN (BatchN  (None, 16, 16, 64)           256       ['block_7_project[0][0]']     \n",
            " ormalization)                                                                                    \n",
            "                                                                                                  \n",
            " block_7_add (Add)           (None, 16, 16, 64)           0         ['block_6_project_BN[0][0]',  \n",
            "                                                                     'block_7_project_BN[0][0]']  \n",
            "                                                                                                  \n",
            " block_8_expand (Conv2D)     (None, 16, 16, 384)          24576     ['block_7_add[0][0]']         \n",
            "                                                                                                  \n",
            " block_8_expand_BN (BatchNo  (None, 16, 16, 384)          1536      ['block_8_expand[0][0]']      \n",
            " rmalization)                                                                                     \n",
            "                                                                                                  \n",
            " block_8_expand_relu (ReLU)  (None, 16, 16, 384)          0         ['block_8_expand_BN[0][0]']   \n",
            "                                                                                                  \n",
            " block_8_depthwise (Depthwi  (None, 16, 16, 384)          3456      ['block_8_expand_relu[0][0]'] \n",
            " seConv2D)                                                                                        \n",
            "                                                                                                  \n",
            " block_8_depthwise_BN (Batc  (None, 16, 16, 384)          1536      ['block_8_depthwise[0][0]']   \n",
            " hNormalization)                                                                                  \n",
            "                                                                                                  \n",
            " block_8_depthwise_relu (Re  (None, 16, 16, 384)          0         ['block_8_depthwise_BN[0][0]']\n",
            " LU)                                                                                              \n",
            "                                                                                                  \n",
            " block_8_project (Conv2D)    (None, 16, 16, 64)           24576     ['block_8_depthwise_relu[0][0]\n",
            "                                                                    ']                            \n",
            "                                                                                                  \n",
            " block_8_project_BN (BatchN  (None, 16, 16, 64)           256       ['block_8_project[0][0]']     \n",
            " ormalization)                                                                                    \n",
            "                                                                                                  \n",
            " block_8_add (Add)           (None, 16, 16, 64)           0         ['block_7_add[0][0]',         \n",
            "                                                                     'block_8_project_BN[0][0]']  \n",
            "                                                                                                  \n",
            " block_9_expand (Conv2D)     (None, 16, 16, 384)          24576     ['block_8_add[0][0]']         \n",
            "                                                                                                  \n",
            " block_9_expand_BN (BatchNo  (None, 16, 16, 384)          1536      ['block_9_expand[0][0]']      \n",
            " rmalization)                                                                                     \n",
            "                                                                                                  \n",
            " block_9_expand_relu (ReLU)  (None, 16, 16, 384)          0         ['block_9_expand_BN[0][0]']   \n",
            "                                                                                                  \n",
            " block_9_depthwise (Depthwi  (None, 16, 16, 384)          3456      ['block_9_expand_relu[0][0]'] \n",
            " seConv2D)                                                                                        \n",
            "                                                                                                  \n",
            " block_9_depthwise_BN (Batc  (None, 16, 16, 384)          1536      ['block_9_depthwise[0][0]']   \n",
            " hNormalization)                                                                                  \n",
            "                                                                                                  \n",
            " block_9_depthwise_relu (Re  (None, 16, 16, 384)          0         ['block_9_depthwise_BN[0][0]']\n",
            " LU)                                                                                              \n",
            "                                                                                                  \n",
            " block_9_project (Conv2D)    (None, 16, 16, 64)           24576     ['block_9_depthwise_relu[0][0]\n",
            "                                                                    ']                            \n",
            "                                                                                                  \n",
            " block_9_project_BN (BatchN  (None, 16, 16, 64)           256       ['block_9_project[0][0]']     \n",
            " ormalization)                                                                                    \n",
            "                                                                                                  \n",
            " block_9_add (Add)           (None, 16, 16, 64)           0         ['block_8_add[0][0]',         \n",
            "                                                                     'block_9_project_BN[0][0]']  \n",
            "                                                                                                  \n",
            " block_10_expand (Conv2D)    (None, 16, 16, 384)          24576     ['block_9_add[0][0]']         \n",
            "                                                                                                  \n",
            " block_10_expand_BN (BatchN  (None, 16, 16, 384)          1536      ['block_10_expand[0][0]']     \n",
            " ormalization)                                                                                    \n",
            "                                                                                                  \n",
            " block_10_expand_relu (ReLU  (None, 16, 16, 384)          0         ['block_10_expand_BN[0][0]']  \n",
            " )                                                                                                \n",
            "                                                                                                  \n",
            " block_10_depthwise (Depthw  (None, 16, 16, 384)          3456      ['block_10_expand_relu[0][0]']\n",
            " iseConv2D)                                                                                       \n",
            "                                                                                                  \n",
            " block_10_depthwise_BN (Bat  (None, 16, 16, 384)          1536      ['block_10_depthwise[0][0]']  \n",
            " chNormalization)                                                                                 \n",
            "                                                                                                  \n",
            " block_10_depthwise_relu (R  (None, 16, 16, 384)          0         ['block_10_depthwise_BN[0][0]'\n",
            " eLU)                                                               ]                             \n",
            "                                                                                                  \n",
            " block_10_project (Conv2D)   (None, 16, 16, 96)           36864     ['block_10_depthwise_relu[0][0\n",
            "                                                                    ]']                           \n",
            "                                                                                                  \n",
            " block_10_project_BN (Batch  (None, 16, 16, 96)           384       ['block_10_project[0][0]']    \n",
            " Normalization)                                                                                   \n",
            "                                                                                                  \n",
            " block_11_expand (Conv2D)    (None, 16, 16, 576)          55296     ['block_10_project_BN[0][0]'] \n",
            "                                                                                                  \n",
            " block_11_expand_BN (BatchN  (None, 16, 16, 576)          2304      ['block_11_expand[0][0]']     \n",
            " ormalization)                                                                                    \n",
            "                                                                                                  \n",
            " block_11_expand_relu (ReLU  (None, 16, 16, 576)          0         ['block_11_expand_BN[0][0]']  \n",
            " )                                                                                                \n",
            "                                                                                                  \n",
            " block_11_depthwise (Depthw  (None, 16, 16, 576)          5184      ['block_11_expand_relu[0][0]']\n",
            " iseConv2D)                                                                                       \n",
            "                                                                                                  \n",
            " block_11_depthwise_BN (Bat  (None, 16, 16, 576)          2304      ['block_11_depthwise[0][0]']  \n",
            " chNormalization)                                                                                 \n",
            "                                                                                                  \n",
            " block_11_depthwise_relu (R  (None, 16, 16, 576)          0         ['block_11_depthwise_BN[0][0]'\n",
            " eLU)                                                               ]                             \n",
            "                                                                                                  \n",
            " block_11_project (Conv2D)   (None, 16, 16, 96)           55296     ['block_11_depthwise_relu[0][0\n",
            "                                                                    ]']                           \n",
            "                                                                                                  \n",
            " block_11_project_BN (Batch  (None, 16, 16, 96)           384       ['block_11_project[0][0]']    \n",
            " Normalization)                                                                                   \n",
            "                                                                                                  \n",
            " block_11_add (Add)          (None, 16, 16, 96)           0         ['block_10_project_BN[0][0]', \n",
            "                                                                     'block_11_project_BN[0][0]'] \n",
            "                                                                                                  \n",
            " block_12_expand (Conv2D)    (None, 16, 16, 576)          55296     ['block_11_add[0][0]']        \n",
            "                                                                                                  \n",
            " block_12_expand_BN (BatchN  (None, 16, 16, 576)          2304      ['block_12_expand[0][0]']     \n",
            " ormalization)                                                                                    \n",
            "                                                                                                  \n",
            " block_12_expand_relu (ReLU  (None, 16, 16, 576)          0         ['block_12_expand_BN[0][0]']  \n",
            " )                                                                                                \n",
            "                                                                                                  \n",
            " block_12_depthwise (Depthw  (None, 16, 16, 576)          5184      ['block_12_expand_relu[0][0]']\n",
            " iseConv2D)                                                                                       \n",
            "                                                                                                  \n",
            " block_12_depthwise_BN (Bat  (None, 16, 16, 576)          2304      ['block_12_depthwise[0][0]']  \n",
            " chNormalization)                                                                                 \n",
            "                                                                                                  \n",
            " block_12_depthwise_relu (R  (None, 16, 16, 576)          0         ['block_12_depthwise_BN[0][0]'\n",
            " eLU)                                                               ]                             \n",
            "                                                                                                  \n",
            " block_12_project (Conv2D)   (None, 16, 16, 96)           55296     ['block_12_depthwise_relu[0][0\n",
            "                                                                    ]']                           \n",
            "                                                                                                  \n",
            " block_12_project_BN (Batch  (None, 16, 16, 96)           384       ['block_12_project[0][0]']    \n",
            " Normalization)                                                                                   \n",
            "                                                                                                  \n",
            " block_12_add (Add)          (None, 16, 16, 96)           0         ['block_11_add[0][0]',        \n",
            "                                                                     'block_12_project_BN[0][0]'] \n",
            "                                                                                                  \n",
            " block_13_expand (Conv2D)    (None, 16, 16, 576)          55296     ['block_12_add[0][0]']        \n",
            "                                                                                                  \n",
            " block_13_expand_BN (BatchN  (None, 16, 16, 576)          2304      ['block_13_expand[0][0]']     \n",
            " ormalization)                                                                                    \n",
            "                                                                                                  \n",
            " block_13_expand_relu (ReLU  (None, 16, 16, 576)          0         ['block_13_expand_BN[0][0]']  \n",
            " )                                                                                                \n",
            "                                                                                                  \n",
            " block_13_pad (ZeroPadding2  (None, 17, 17, 576)          0         ['block_13_expand_relu[0][0]']\n",
            " D)                                                                                               \n",
            "                                                                                                  \n",
            " block_13_depthwise (Depthw  (None, 8, 8, 576)            5184      ['block_13_pad[0][0]']        \n",
            " iseConv2D)                                                                                       \n",
            "                                                                                                  \n",
            " block_13_depthwise_BN (Bat  (None, 8, 8, 576)            2304      ['block_13_depthwise[0][0]']  \n",
            " chNormalization)                                                                                 \n",
            "                                                                                                  \n",
            " block_13_depthwise_relu (R  (None, 8, 8, 576)            0         ['block_13_depthwise_BN[0][0]'\n",
            " eLU)                                                               ]                             \n",
            "                                                                                                  \n",
            " block_13_project (Conv2D)   (None, 8, 8, 160)            92160     ['block_13_depthwise_relu[0][0\n",
            "                                                                    ]']                           \n",
            "                                                                                                  \n",
            " block_13_project_BN (Batch  (None, 8, 8, 160)            640       ['block_13_project[0][0]']    \n",
            " Normalization)                                                                                   \n",
            "                                                                                                  \n",
            " block_14_expand (Conv2D)    (None, 8, 8, 960)            153600    ['block_13_project_BN[0][0]'] \n",
            "                                                                                                  \n",
            " block_14_expand_BN (BatchN  (None, 8, 8, 960)            3840      ['block_14_expand[0][0]']     \n",
            " ormalization)                                                                                    \n",
            "                                                                                                  \n",
            " block_14_expand_relu (ReLU  (None, 8, 8, 960)            0         ['block_14_expand_BN[0][0]']  \n",
            " )                                                                                                \n",
            "                                                                                                  \n",
            " block_14_depthwise (Depthw  (None, 8, 8, 960)            8640      ['block_14_expand_relu[0][0]']\n",
            " iseConv2D)                                                                                       \n",
            "                                                                                                  \n",
            " block_14_depthwise_BN (Bat  (None, 8, 8, 960)            3840      ['block_14_depthwise[0][0]']  \n",
            " chNormalization)                                                                                 \n",
            "                                                                                                  \n",
            " block_14_depthwise_relu (R  (None, 8, 8, 960)            0         ['block_14_depthwise_BN[0][0]'\n",
            " eLU)                                                               ]                             \n",
            "                                                                                                  \n",
            " block_14_project (Conv2D)   (None, 8, 8, 160)            153600    ['block_14_depthwise_relu[0][0\n",
            "                                                                    ]']                           \n",
            "                                                                                                  \n",
            " block_14_project_BN (Batch  (None, 8, 8, 160)            640       ['block_14_project[0][0]']    \n",
            " Normalization)                                                                                   \n",
            "                                                                                                  \n",
            " block_14_add (Add)          (None, 8, 8, 160)            0         ['block_13_project_BN[0][0]', \n",
            "                                                                     'block_14_project_BN[0][0]'] \n",
            "                                                                                                  \n",
            " block_15_expand (Conv2D)    (None, 8, 8, 960)            153600    ['block_14_add[0][0]']        \n",
            "                                                                                                  \n",
            " block_15_expand_BN (BatchN  (None, 8, 8, 960)            3840      ['block_15_expand[0][0]']     \n",
            " ormalization)                                                                                    \n",
            "                                                                                                  \n",
            " block_15_expand_relu (ReLU  (None, 8, 8, 960)            0         ['block_15_expand_BN[0][0]']  \n",
            " )                                                                                                \n",
            "                                                                                                  \n",
            " block_15_depthwise (Depthw  (None, 8, 8, 960)            8640      ['block_15_expand_relu[0][0]']\n",
            " iseConv2D)                                                                                       \n",
            "                                                                                                  \n",
            " block_15_depthwise_BN (Bat  (None, 8, 8, 960)            3840      ['block_15_depthwise[0][0]']  \n",
            " chNormalization)                                                                                 \n",
            "                                                                                                  \n",
            " block_15_depthwise_relu (R  (None, 8, 8, 960)            0         ['block_15_depthwise_BN[0][0]'\n",
            " eLU)                                                               ]                             \n",
            "                                                                                                  \n",
            " block_15_project (Conv2D)   (None, 8, 8, 160)            153600    ['block_15_depthwise_relu[0][0\n",
            "                                                                    ]']                           \n",
            "                                                                                                  \n",
            " block_15_project_BN (Batch  (None, 8, 8, 160)            640       ['block_15_project[0][0]']    \n",
            " Normalization)                                                                                   \n",
            "                                                                                                  \n",
            " block_15_add (Add)          (None, 8, 8, 160)            0         ['block_14_add[0][0]',        \n",
            "                                                                     'block_15_project_BN[0][0]'] \n",
            "                                                                                                  \n",
            " block_16_expand (Conv2D)    (None, 8, 8, 960)            153600    ['block_15_add[0][0]']        \n",
            "                                                                                                  \n",
            " block_16_expand_BN (BatchN  (None, 8, 8, 960)            3840      ['block_16_expand[0][0]']     \n",
            " ormalization)                                                                                    \n",
            "                                                                                                  \n",
            " block_16_expand_relu (ReLU  (None, 8, 8, 960)            0         ['block_16_expand_BN[0][0]']  \n",
            " )                                                                                                \n",
            "                                                                                                  \n",
            " block_16_depthwise (Depthw  (None, 8, 8, 960)            8640      ['block_16_expand_relu[0][0]']\n",
            " iseConv2D)                                                                                       \n",
            "                                                                                                  \n",
            " block_16_depthwise_BN (Bat  (None, 8, 8, 960)            3840      ['block_16_depthwise[0][0]']  \n",
            " chNormalization)                                                                                 \n",
            "                                                                                                  \n",
            " block_16_depthwise_relu (R  (None, 8, 8, 960)            0         ['block_16_depthwise_BN[0][0]'\n",
            " eLU)                                                               ]                             \n",
            "                                                                                                  \n",
            " block_16_project (Conv2D)   (None, 8, 8, 320)            307200    ['block_16_depthwise_relu[0][0\n",
            "                                                                    ]']                           \n",
            "                                                                                                  \n",
            " block_16_project_BN (Batch  (None, 8, 8, 320)            1280      ['block_16_project[0][0]']    \n",
            " Normalization)                                                                                   \n",
            "                                                                                                  \n",
            " Conv_1 (Conv2D)             (None, 8, 8, 1280)           409600    ['block_16_project_BN[0][0]'] \n",
            "                                                                                                  \n",
            " Conv_1_bn (BatchNormalizat  (None, 8, 8, 1280)           5120      ['Conv_1[0][0]']              \n",
            " ion)                                                                                             \n",
            "                                                                                                  \n",
            " out_relu (ReLU)             (None, 8, 8, 1280)           0         ['Conv_1_bn[0][0]']           \n",
            "                                                                                                  \n",
            " global_average_pooling2d_1  (None, 1280)                 0         ['out_relu[0][0]']            \n",
            "  (GlobalAveragePooling2D)                                                                        \n",
            "                                                                                                  \n",
            " dense_1 (Dense)             (None, 128)                  163968    ['global_average_pooling2d_1[0\n",
            "                                                                    ][0]']                        \n",
            "                                                                                                  \n",
            " dense_2 (Dense)             (None, 38)                   4902      ['dense_1[0][0]']             \n",
            "                                                                                                  \n",
            "==================================================================================================\n",
            "Total params: 2426854 (9.26 MB)\n",
            "Trainable params: 168870 (659.65 KB)\n",
            "Non-trainable params: 2257984 (8.61 MB)\n",
            "__________________________________________________________________________________________________\n"
          ]
        }
      ]
    },
    {
      "cell_type": "code",
      "source": [
        "model.compile(optimizer= 'adam', loss = keras.losses.categorical_crossentropy, metrics= ['accuracy'])"
      ],
      "metadata": {
        "id": "uRGSl2u9QLDx"
      },
      "execution_count": 16,
      "outputs": []
    },
    {
      "cell_type": "code",
      "source": [
        "from keras.callbacks import ModelCheckpoint, EarlyStopping\n",
        "#Early stopping\n",
        "es = EarlyStopping(monitor='val_accuracy', min_delta = 0.01, patience =3, verbose =1)\n",
        "\n",
        "#model check point\n",
        "mc= ModelCheckpoint(filepath=\"best_model.h5\",\n",
        "                    monitor='val_accuracy',\n",
        "                    min_delta = 0.01,\n",
        "                    patience =3, verbose =1,\n",
        "                    save_best_only=True)\n",
        "\n",
        "cb = [es,mc]"
      ],
      "metadata": {
        "id": "9P-stIjMM9dM"
      },
      "execution_count": 17,
      "outputs": []
    },
    {
      "cell_type": "code",
      "source": [
        "his = model.fit_generator(train,\n",
        "                          steps_per_epoch = 16,\n",
        "                          epochs =20,\n",
        "                          verbose =1,\n",
        "                          callbacks = cb,\n",
        "                          validation_data =val,\n",
        "                          validation_steps= 16)"
      ],
      "metadata": {
        "colab": {
          "base_uri": "https://localhost:8080/",
          "height": 0
        },
        "id": "MIju1jy9NsrD",
        "outputId": "2214e47a-eea8-49ce-c02a-99b43c94fc35"
      },
      "execution_count": 18,
      "outputs": [
        {
          "output_type": "stream",
          "name": "stderr",
          "text": [
            "<ipython-input-18-571d5f02df7c>:1: UserWarning: `Model.fit_generator` is deprecated and will be removed in a future version. Please use `Model.fit`, which supports generators.\n",
            "  his = model.fit_generator(train,\n"
          ]
        },
        {
          "output_type": "stream",
          "name": "stdout",
          "text": [
            "Epoch 1/20\n",
            "16/16 [==============================] - ETA: 0s - loss: 3.6387 - accuracy: 0.0762\n",
            "Epoch 1: val_accuracy improved from -inf to 0.14258, saving model to best_model.h5\n"
          ]
        },
        {
          "output_type": "stream",
          "name": "stderr",
          "text": [
            "/usr/local/lib/python3.10/dist-packages/keras/src/engine/training.py:3079: UserWarning: You are saving your model as an HDF5 file via `model.save()`. This file format is considered legacy. We recommend using instead the native Keras format, e.g. `model.save('my_model.keras')`.\n",
            "  saving_api.save_model(\n"
          ]
        },
        {
          "output_type": "stream",
          "name": "stdout",
          "text": [
            "\b\b\b\b\b\b\b\b\b\b\b\b\b\b\b\b\b\b\b\b\b\b\b\b\b\b\b\b\b\b\b\b\b\b\b\b\b\b\b\b\b\b\b\b\b\b\b\b\b\b\b\b\b\b\b\b\b\b\b\b\b\b\b\b\b\b\b\b\b\b\b\b\b\b\b\b\b\b\b\b\b\b\r16/16 [==============================] - 300s 19s/step - loss: 3.6387 - accuracy: 0.0762 - val_loss: 3.3603 - val_accuracy: 0.1426\n",
            "Epoch 2/20\n",
            "16/16 [==============================] - ETA: 0s - loss: 3.4025 - accuracy: 0.1191\n",
            "Epoch 2: val_accuracy improved from 0.14258 to 0.22852, saving model to best_model.h5\n",
            "16/16 [==============================] - 278s 18s/step - loss: 3.4025 - accuracy: 0.1191 - val_loss: 3.1430 - val_accuracy: 0.2285\n",
            "Epoch 3/20\n",
            "16/16 [==============================] - ETA: 0s - loss: 3.0950 - accuracy: 0.1953\n",
            "Epoch 3: val_accuracy improved from 0.22852 to 0.26172, saving model to best_model.h5\n",
            "16/16 [==============================] - 277s 18s/step - loss: 3.0950 - accuracy: 0.1953 - val_loss: 2.8642 - val_accuracy: 0.2617\n",
            "Epoch 4/20\n",
            "16/16 [==============================] - ETA: 0s - loss: 2.8884 - accuracy: 0.2578\n",
            "Epoch 4: val_accuracy improved from 0.26172 to 0.30664, saving model to best_model.h5\n",
            "16/16 [==============================] - 279s 18s/step - loss: 2.8884 - accuracy: 0.2578 - val_loss: 2.5629 - val_accuracy: 0.3066\n",
            "Epoch 5/20\n",
            "16/16 [==============================] - ETA: 0s - loss: 2.6449 - accuracy: 0.2793\n",
            "Epoch 5: val_accuracy improved from 0.30664 to 0.32422, saving model to best_model.h5\n",
            "16/16 [==============================] - 277s 18s/step - loss: 2.6449 - accuracy: 0.2793 - val_loss: 2.5215 - val_accuracy: 0.3242\n",
            "Epoch 6/20\n",
            "16/16 [==============================] - ETA: 0s - loss: 2.3648 - accuracy: 0.3438\n",
            "Epoch 6: val_accuracy improved from 0.32422 to 0.41602, saving model to best_model.h5\n",
            "16/16 [==============================] - 269s 17s/step - loss: 2.3648 - accuracy: 0.3438 - val_loss: 2.1446 - val_accuracy: 0.4160\n",
            "Epoch 7/20\n",
            "16/16 [==============================] - ETA: 0s - loss: 2.1825 - accuracy: 0.3828\n",
            "Epoch 7: val_accuracy did not improve from 0.41602\n",
            "16/16 [==============================] - 276s 18s/step - loss: 2.1825 - accuracy: 0.3828 - val_loss: 2.2075 - val_accuracy: 0.3711\n",
            "Epoch 8/20\n",
            "16/16 [==============================] - ETA: 0s - loss: 2.1371 - accuracy: 0.3965\n",
            "Epoch 8: val_accuracy improved from 0.41602 to 0.48047, saving model to best_model.h5\n",
            "16/16 [==============================] - 288s 19s/step - loss: 2.1371 - accuracy: 0.3965 - val_loss: 1.8880 - val_accuracy: 0.4805\n",
            "Epoch 9/20\n",
            "16/16 [==============================] - ETA: 0s - loss: 2.1005 - accuracy: 0.4004\n",
            "Epoch 9: val_accuracy did not improve from 0.48047\n",
            "16/16 [==============================] - 243s 15s/step - loss: 2.1005 - accuracy: 0.4004 - val_loss: 1.9375 - val_accuracy: 0.4648\n",
            "Epoch 10/20\n",
            "16/16 [==============================] - ETA: 0s - loss: 2.0177 - accuracy: 0.4316\n",
            "Epoch 10: val_accuracy did not improve from 0.48047\n",
            "16/16 [==============================] - 274s 18s/step - loss: 2.0177 - accuracy: 0.4316 - val_loss: 1.8999 - val_accuracy: 0.4785\n",
            "Epoch 11/20\n",
            "16/16 [==============================] - ETA: 0s - loss: 1.8807 - accuracy: 0.4414\n",
            "Epoch 11: val_accuracy improved from 0.48047 to 0.49414, saving model to best_model.h5\n",
            "16/16 [==============================] - 268s 17s/step - loss: 1.8807 - accuracy: 0.4414 - val_loss: 1.6993 - val_accuracy: 0.4941\n",
            "Epoch 12/20\n",
            "16/16 [==============================] - ETA: 0s - loss: 1.8175 - accuracy: 0.4941\n",
            "Epoch 12: val_accuracy improved from 0.49414 to 0.52344, saving model to best_model.h5\n",
            "16/16 [==============================] - 229s 15s/step - loss: 1.8175 - accuracy: 0.4941 - val_loss: 1.6984 - val_accuracy: 0.5234\n",
            "Epoch 13/20\n",
            "16/16 [==============================] - ETA: 0s - loss: 1.6677 - accuracy: 0.5195\n",
            "Epoch 13: val_accuracy improved from 0.52344 to 0.55859, saving model to best_model.h5\n",
            "16/16 [==============================] - 267s 17s/step - loss: 1.6677 - accuracy: 0.5195 - val_loss: 1.5097 - val_accuracy: 0.5586\n",
            "Epoch 14/20\n",
            "16/16 [==============================] - ETA: 0s - loss: 1.6360 - accuracy: 0.5586\n",
            "Epoch 14: val_accuracy did not improve from 0.55859\n",
            "16/16 [==============================] - 265s 17s/step - loss: 1.6360 - accuracy: 0.5586 - val_loss: 1.5917 - val_accuracy: 0.5430\n",
            "Epoch 15/20\n",
            "16/16 [==============================] - ETA: 0s - loss: 1.5921 - accuracy: 0.5137\n",
            "Epoch 15: val_accuracy did not improve from 0.55859\n",
            "16/16 [==============================] - 265s 17s/step - loss: 1.5921 - accuracy: 0.5137 - val_loss: 1.4866 - val_accuracy: 0.5469\n",
            "Epoch 16/20\n",
            "16/16 [==============================] - ETA: 0s - loss: 1.6810 - accuracy: 0.5234\n",
            "Epoch 16: val_accuracy did not improve from 0.55859\n",
            "16/16 [==============================] - 274s 17s/step - loss: 1.6810 - accuracy: 0.5234 - val_loss: 1.5878 - val_accuracy: 0.4961\n",
            "Epoch 16: early stopping\n"
          ]
        }
      ]
    },
    {
      "cell_type": "code",
      "source": [
        "acc = model.evaluate_generator(val)[1]\n",
        "print ( f\" The accuracy of your model is {acc*100} %\")"
      ],
      "metadata": {
        "id": "II2y_aOVM9fq",
        "colab": {
          "base_uri": "https://localhost:8080/",
          "height": 0
        },
        "outputId": "9b4e3dd2-36f6-453a-eb7a-c5a29af5cd26"
      },
      "execution_count": 19,
      "outputs": [
        {
          "output_type": "stream",
          "name": "stderr",
          "text": [
            "<ipython-input-19-c1d43e1bc21e>:1: UserWarning: `Model.evaluate_generator` is deprecated and will be removed in a future version. Please use `Model.evaluate`, which supports generators.\n",
            "  acc = model.evaluate_generator(val)[1]\n"
          ]
        },
        {
          "output_type": "stream",
          "name": "stdout",
          "text": [
            " The accuracy of your model is 52.65763998031616 %\n"
          ]
        }
      ]
    },
    {
      "cell_type": "code",
      "source": [
        "h=his.history\n",
        "h.keys()"
      ],
      "metadata": {
        "colab": {
          "base_uri": "https://localhost:8080/",
          "height": 0
        },
        "id": "NbUshJLvM9hj",
        "outputId": "afc4e31c-0be3-45c5-fe5d-63a92ef829e7"
      },
      "execution_count": 20,
      "outputs": [
        {
          "output_type": "execute_result",
          "data": {
            "text/plain": [
              "dict_keys(['loss', 'accuracy', 'val_loss', 'val_accuracy'])"
            ]
          },
          "metadata": {},
          "execution_count": 20
        }
      ]
    },
    {
      "cell_type": "code",
      "source": [
        "plt.plot(h['accuracy'])\n",
        "plt.plot(h['val_accuracy'], c= \"red\")\n",
        "plt.title(\"acc vs v-acc\")\n",
        "plt.show()"
      ],
      "metadata": {
        "colab": {
          "base_uri": "https://localhost:8080/",
          "height": 452
        },
        "id": "v6g1zmSfM9kd",
        "outputId": "ddec343b-ebaa-45dc-83d9-4059a3f77a04"
      },
      "execution_count": 21,
      "outputs": [
        {
          "output_type": "display_data",
          "data": {
            "text/plain": [
              "<Figure size 640x480 with 1 Axes>"
            ],
            "image/png": "[encoded data removed]"
          },
          "metadata": {}
        }
      ]
    },
    {
      "cell_type": "code",
      "source": [
        "plt.plot(h['loss'])\n",
        "plt.plot(h['val_loss'], c= \"red\")\n",
        "plt.title(\"loss vs v-loss\")\n",
        "plt.show()"
      ],
      "metadata": {
        "colab": {
          "base_uri": "https://localhost:8080/",
          "height": 452
        },
        "id": "sZCMVZa2M9mL",
        "outputId": "3fabd1da-4e10-4c85-c63e-b6eb1084f9da"
      },
      "execution_count": 22,
      "outputs": [
        {
          "output_type": "display_data",
          "data": {
            "text/plain": [
              "<Figure size 640x480 with 1 Axes>"
            ],
            "image/png": "[encoded data removed]"
          },
          "metadata": {}
        }
      ]
    },
    {
      "cell_type": "code",
      "source": [],
      "metadata": {
        "id": "Bkrc4XhcM9o8"
      },
      "execution_count": null,
      "outputs": []
    },
    {
      "cell_type": "code",
      "source": [
        "#load best model\n",
        "\n",
        "from keras.models import load_model\n",
        "model = load_model(\"/content/best_model.h5\")"
      ],
      "metadata": {
        "id": "rnHlcd0AM9qz"
      },
      "execution_count": 23,
      "outputs": []
    },
    {
      "cell_type": "code",
      "source": [
        "ref = dict(zip(list(train.class_indices.values()),list(train.class_indices.keys())))\n",
        "ref"
      ],
      "metadata": {
        "colab": {
          "base_uri": "https://localhost:8080/",
          "height": 0
        },
        "id": "lkvT0o2NM9tm",
        "outputId": "8f97b978-9377-4ad7-9910-76dc94149c36"
      },
      "execution_count": 24,
      "outputs": [
        {
          "output_type": "execute_result",
          "data": {
            "text/plain": [
              "{0: 'Apple___Apple_scab',\n",
              " 1: 'Apple___Black_rot',\n",
              " 2: 'Apple___Cedar_apple_rust',\n",
              " 3: 'Apple___healthy',\n",
              " 4: 'Blueberry___healthy',\n",
              " 5: 'Cherry_(including_sour)___Powdery_mildew',\n",
              " 6: 'Cherry_(including_sour)___healthy',\n",
              " 7: 'Corn_(maize)___Cercospora_leaf_spot Gray_leaf_spot',\n",
              " 8: 'Corn_(maize)___Common_rust_',\n",
              " 9: 'Corn_(maize)___Northern_Leaf_Blight',\n",
              " 10: 'Corn_(maize)___healthy',\n",
              " 11: 'Grape___Black_rot',\n",
              " 12: 'Grape___Esca_(Black_Measles)',\n",
              " 13: 'Grape___Leaf_blight_(Isariopsis_Leaf_Spot)',\n",
              " 14: 'Grape___healthy',\n",
              " 15: 'Orange___Haunglongbing_(Citrus_greening)',\n",
              " 16: 'Peach___Bacterial_spot',\n",
              " 17: 'Peach___healthy',\n",
              " 18: 'Pepper,_bell___Bacterial_spot',\n",
              " 19: 'Pepper,_bell___healthy',\n",
              " 20: 'Potato___Early_blight',\n",
              " 21: 'Potato___Late_blight',\n",
              " 22: 'Potato___healthy',\n",
              " 23: 'Raspberry___healthy',\n",
              " 24: 'Soybean___healthy',\n",
              " 25: 'Squash___Powdery_mildew',\n",
              " 26: 'Strawberry___Leaf_scorch',\n",
              " 27: 'Strawberry___healthy',\n",
              " 28: 'Tomato___Bacterial_spot',\n",
              " 29: 'Tomato___Early_blight',\n",
              " 30: 'Tomato___Late_blight',\n",
              " 31: 'Tomato___Leaf_Mold',\n",
              " 32: 'Tomato___Septoria_leaf_spot',\n",
              " 33: 'Tomato___Spider_mites Two-spotted_spider_mite',\n",
              " 34: 'Tomato___Target_Spot',\n",
              " 35: 'Tomato___Tomato_Yellow_Leaf_Curl_Virus',\n",
              " 36: 'Tomato___Tomato_mosaic_virus',\n",
              " 37: 'Tomato___healthy'}"
            ]
          },
          "metadata": {},
          "execution_count": 24
        }
      ]
    },
    {
      "cell_type": "code",
      "source": [
        "def prediction(path):\n",
        "  img = load_img(path, target_size= (256,256))\n",
        "  i = img_to_array(img)\n",
        "  im = preprocess_input(i)\n",
        "  img = np.expand_dims(im, axis =0)\n",
        "  pred =np.argmax(model.predict(img))\n",
        "  print(f\" the image belongs to {ref[pred]}\")"
      ],
      "metadata": {
        "id": "7zFYIy8WM9vR"
      },
      "execution_count": 25,
      "outputs": []
    },
    {
      "cell_type": "code",
      "source": [
        "path = \"/content/drive/MyDrive/data/test/test/PotatoEarlyBlight1.JPG\"\n",
        "prediction(path)"
      ],
      "metadata": {
        "colab": {
          "base_uri": "https://localhost:8080/",
          "height": 0
        },
        "id": "DabQ-OCTM9yR",
        "outputId": "4e8ec2f4-ed55-424e-8093-c0111fc9252d"
      },
      "execution_count": 26,
      "outputs": [
        {
          "output_type": "stream",
          "name": "stdout",
          "text": [
            "1/1 [==============================] - 1s 1s/step\n",
            " the image belongs to Potato___Early_blight\n"
          ]
        }
      ]
    },
    {
      "cell_type": "code",
      "source": [
        "path = \"/content/drive/MyDrive/data/test/test/TomatoYellowCurlVirus3.JPG\"\n",
        "prediction(path)"
      ],
      "metadata": {
        "colab": {
          "base_uri": "https://localhost:8080/",
          "height": 0
        },
        "id": "3NEuZLtUM90U",
        "outputId": "82966e7e-c209-43e9-b055-16020985a3ba"
      },
      "execution_count": 27,
      "outputs": [
        {
          "output_type": "stream",
          "name": "stdout",
          "text": [
            "1/1 [==============================] - 0s 64ms/step\n",
            " the image belongs to Tomato___Tomato_Yellow_Leaf_Curl_Virus\n"
          ]
        }
      ]
    },
    {
      "cell_type": "code",
      "source": [
        "path = \"/content/drive/MyDrive/data/test/test/TomatoEarlyBlight3.JPG\"\n",
        "prediction(path)"
      ],
      "metadata": {
        "colab": {
          "base_uri": "https://localhost:8080/",
          "height": 0
        },
        "id": "JuS_rRJSM92i",
        "outputId": "d7736768-e349-414e-f60f-63a14a767181"
      },
      "execution_count": 28,
      "outputs": [
        {
          "output_type": "stream",
          "name": "stdout",
          "text": [
            "1/1 [==============================] - 0s 64ms/step\n",
            " the image belongs to Tomato___Bacterial_spot\n"
          ]
        }
      ]
    },
    {
      "cell_type": "code",
      "source": [
        "path = \"/content/drive/MyDrive/data/test/test/AppleScab2.JPG\"\n",
        "prediction(path)"
      ],
      "metadata": {
        "colab": {
          "base_uri": "https://localhost:8080/",
          "height": 0
        },
        "id": "p4tXKIK9M94V",
        "outputId": "9ae92ef3-50f2-4fd8-bb8e-206c220e37a6"
      },
      "execution_count": 29,
      "outputs": [
        {
          "output_type": "stream",
          "name": "stdout",
          "text": [
            "1/1 [==============================] - 0s 101ms/step\n",
            " the image belongs to Tomato___Tomato_Yellow_Leaf_Curl_Virus\n"
          ]
        }
      ]
    },
    {
      "cell_type": "code",
      "source": [],
      "metadata": {
        "id": "goibUf7vM968"
      },
      "execution_count": null,
      "outputs": []
    },
    {
      "cell_type": "code",
      "source": [],
      "metadata": {
        "id": "RPqRjmJDM992"
      },
      "execution_count": null,
      "outputs": []
    }
  ]
}