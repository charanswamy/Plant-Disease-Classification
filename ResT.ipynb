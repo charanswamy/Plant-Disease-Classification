{
  "nbformat": 4,
  "nbformat_minor": 0,
  "metadata": {
    "colab": {
      "provenance": []
    },
    "kernelspec": {
      "name": "python3",
      "display_name": "Python 3"
    },
    "language_info": {
      "name": "python"
    }
  },
  "cells": [
    {
      "cell_type": "code",
      "execution_count": 1,
      "metadata": {
        "id": "PrE9czhUeMCL"
      },
      "outputs": [],
      "source": [
        "import tensorflow as tf\n",
        "from tensorflow.keras import layers, Model\n",
        "from tensorflow.keras.applications import imagenet_utils\n",
        "import os, glob\n",
        "import numpy as np\n",
        "import seaborn as sns\n",
        "import matplotlib.pyplot as plt\n",
        "import pandas as pd\n",
        "\n",
        "from sklearn.model_selection import train_test_split\n",
        "from keras.preprocessing.image import ImageDataGenerator\n",
        "from keras.models import Model\n",
        "from keras.layers import Conv2D, MaxPooling2D, Flatten, Dense, Dropout\n",
        "from keras.callbacks import Callback,EarlyStopping\n",
        "from keras.applications import ResNet50\n",
        "from keras.applications.resnet50 import preprocess_input\n",
        "from sklearn.metrics import  classification_report"
      ]
    },
    {
      "cell_type": "code",
      "source": [
        "from tensorflow.keras.callbacks import ModelCheckpoint, EarlyStopping\n",
        "from tensorflow.keras.preprocessing.image import ImageDataGenerator\n",
        "from tensorflow.keras import layers, Model\n",
        "\n",
        "\n",
        "def residual_block(inputs, filters, strides=1):\n",
        "    identity = inputs\n",
        "\n",
        "    x = layers.Conv2D(filters, kernel_size=3, strides=strides, padding='same')(inputs)\n",
        "    x = layers.BatchNormalization()(x)\n",
        "    x = layers.ReLU()(x)\n",
        "\n",
        "    x = layers.Conv2D(filters, kernel_size=3, strides=1, padding='same')(x)\n",
        "    x = layers.BatchNormalization()(x)\n",
        "\n",
        "    # Residual connection\n",
        "    if strides != 1 or identity.shape[-1] != filters:\n",
        "        identity = layers.Conv2D(filters, kernel_size=1, strides=strides, padding='same')(identity)\n",
        "        identity = layers.BatchNormalization()(identity)\n",
        "\n",
        "    x = layers.Add()([x, identity])\n",
        "    x = layers.ReLU()(x)\n",
        "    return x\n",
        "\n",
        "input_shape = (256,256,3)\n",
        "num_classes = 38\n",
        "def build_rest(input_shape, num_classes):\n",
        "    inputs = layers.Input(shape=input_shape)\n",
        "    # Entry flow\n",
        "    x = layers.Conv2D(64, kernel_size=7, strides=2, padding='same')(inputs)\n",
        "    x = layers.BatchNormalization()(x)\n",
        "    x = layers.ReLU()(x)\n",
        "    x = layers.MaxPooling2D(pool_size=3, strides=2, padding='same')(x)\n",
        "    # Middle flow (stack residual blocks)\n",
        "    x = residual_block(x, filters=64)\n",
        "    x = residual_block(x, filters=64)\n",
        "\n",
        "    # Exit flow\n",
        "    x = layers.GlobalAveragePooling2D()(x)\n",
        "    x = layers.Dense(num_classes, activation='softmax')(x)\n",
        "\n",
        "    model = Model(inputs=inputs, outputs=x)\n",
        "    return model\n",
        "\n",
        "# Define the input shape and number of classes\n",
        "input_shape = (256, 256, 3)  # Adjust based on your image size and channels\n",
        "num_classes = 38  # Define the number of disease classes in your dataset\n",
        "\n",
        "# Build the ResT model\n",
        "rest_model = build_rest(input_shape, num_classes)\n",
        "\n",
        "# Compile the model\n",
        "rest_model.compile(optimizer='adam', loss='sparse_categorical_crossentropy', metrics=['accuracy'])\n",
        "\n",
        "# Directory paths for train, validation, and test sets\n",
        "train_dir=\"/content/drive/MyDrive/data/Plant Diseases Dataset/Plant Diseases Dataset/train\"\n",
        "valid_dir=\"/content/drive/MyDrive/data/Plant Diseases Dataset/Plant Diseases Dataset/valid\"\n",
        "test_dir=\"/content/drive/MyDrive/data/test\"\n",
        "\n",
        "\n",
        "\n",
        "# Data augmentation and normalization for training\n",
        "train_datagen = ImageDataGenerator(\n",
        "    rescale=1.0 / 255.0,\n",
        "    rotation_range=20,\n",
        "    width_shift_range=0.2,\n",
        "    height_shift_range=0.2,\n",
        "    shear_range=0.2,\n",
        "    zoom_range=0.2,\n",
        "    horizontal_flip=True,\n",
        "    fill_mode='nearest'\n",
        ")\n",
        "\n",
        "# Normalization for validation and test data\n",
        "val_test_datagen = ImageDataGenerator(rescale=1.0 / 255.0)\n",
        "\n",
        "# Generate data iterators using ImageDataGenerator\n",
        "train_gen = train_datagen.flow_from_directory(\n",
        "    train_dir,\n",
        "    target_size=(256, 256),\n",
        "    batch_size=32,\n",
        "    class_mode='sparse'  # Use 'sparse' for sparse categorical labels\n",
        ")\n",
        "\n",
        "val_gen = val_test_datagen.flow_from_directory(\n",
        "    valid_dir,\n",
        "    target_size=(256, 256),\n",
        "    batch_size=32,\n",
        "    class_mode='sparse'\n",
        ")\n",
        "\n",
        "\n",
        "# Set up callbacks (early stopping and model checkpoint)\n",
        "es = EarlyStopping(monitor='val_accuracy', min_delta=0.01, patience=3, verbose=1)\n",
        "mc = ModelCheckpoint(filepath=\"best_model.h5\", monitor='val_accuracy', min_delta=0.01, patience=3, verbose=1, save_best_only=True)\n",
        "\n",
        "callbacks = [es, mc]\n",
        "\n",
        "# Train the model\n",
        "history = rest_model.fit(\n",
        "    train_gen,\n",
        "    epochs=10,\n",
        "    validation_data=val_gen,\n",
        "    callbacks=callbacks,\n",
        "    validation_steps=16,\n",
        "    steps_per_epoch=16\n",
        ")"
      ],
      "metadata": {
        "colab": {
          "base_uri": "https://localhost:8080/"
        },
        "id": "DEGGc8GYm-SQ",
        "outputId": "469f1fe3-6076-4290-f7e6-de0fad914d06"
      },
      "execution_count": 3,
      "outputs": [
        {
          "metadata": {
            "tags": null
          },
          "name": "stdout",
          "output_type": "stream",
          "text": [
            "Found 70312 images belonging to 38 classes.\n",
            "Found 17572 images belonging to 38 classes.\n",
            "Epoch 1/10\n",
            "16/16 [==============================] - ETA: 0s - loss: 3.6829 - accuracy: 0.0938\n",
            "Epoch 1: val_accuracy improved from -inf to 0.02734, saving model to best_model.h5\n",
            "16/16 [==============================] - 250s 16s/step - loss: 3.6829 - accuracy: 0.0938 - val_loss: 3.7063 - val_accuracy: 0.0273\n"
          ]
        },
        {
          "metadata": {
            "tags": null
          },
          "name": "stderr",
          "output_type": "stream",
          "text": [
            "/usr/local/lib/python3.10/dist-packages/keras/src/engine/training.py:3079: UserWarning: You are saving your model as an HDF5 file via `model.save()`. This file format is considered legacy. We recommend using instead the native Keras format, e.g. `model.save('my_model.keras')`.\n",
            "  saving_api.save_model(\n"
          ]
        },
        {
          "output_type": "stream",
          "name": "stdout",
          "text": [
            "Epoch 2/10\n",
            "16/16 [==============================] - ETA: 0s - loss: 3.0720 - accuracy: 0.2168\n",
            "Epoch 2: val_accuracy improved from 0.02734 to 0.05469, saving model to best_model.h5\n",
            "16/16 [==============================] - 241s 15s/step - loss: 3.0720 - accuracy: 0.2168 - val_loss: 3.6478 - val_accuracy: 0.0547\n",
            "Epoch 3/10\n",
            "16/16 [==============================] - ETA: 0s - loss: 2.9012 - accuracy: 0.1973\n",
            "Epoch 3: val_accuracy did not improve from 0.05469\n",
            "16/16 [==============================] - 231s 15s/step - loss: 2.9012 - accuracy: 0.1973 - val_loss: 3.9112 - val_accuracy: 0.0273\n",
            "Epoch 4/10\n",
            "16/16 [==============================] - ETA: 0s - loss: 2.7209 - accuracy: 0.2363\n",
            "Epoch 4: val_accuracy did not improve from 0.05469\n",
            "16/16 [==============================] - 237s 15s/step - loss: 2.7209 - accuracy: 0.2363 - val_loss: 4.1345 - val_accuracy: 0.0195\n",
            "Epoch 5/10\n",
            "16/16 [==============================] - ETA: 0s - loss: 2.5256 - accuracy: 0.3262\n",
            "Epoch 5: val_accuracy did not improve from 0.05469\n",
            "16/16 [==============================] - 227s 14s/step - loss: 2.5256 - accuracy: 0.3262 - val_loss: 4.0261 - val_accuracy: 0.0215\n",
            "Epoch 5: early stopping\n"
          ]
        }
      ]
    },
    {
      "cell_type": "code",
      "source": [
        "acc = rest_model.evaluate_generator(val_gen)[1]\n",
        "print ( f\" The accuracy of your model is {acc*100} %\")"
      ],
      "metadata": {
        "colab": {
          "base_uri": "https://localhost:8080/"
        },
        "id": "g4tc9LX0m-VE",
        "outputId": "8e04a216-0e91-44ee-98a7-595fb6e78848"
      },
      "execution_count": 4,
      "outputs": [
        {
          "metadata": {
            "tags": null
          },
          "name": "stderr",
          "output_type": "stream",
          "text": [
            "<ipython-input-4-06a21aa9b1ca>:1: UserWarning: `Model.evaluate_generator` is deprecated and will be removed in a future version. Please use `Model.evaluate`, which supports generators.\n",
            "  acc = rest_model.evaluate_generator(val_gen)[1]\n"
          ]
        },
        {
          "output_type": "stream",
          "name": "stdout",
          "text": [
            " The accuracy of your model is 2.4186205118894577 %\n"
          ]
        }
      ]
    },
    {
      "cell_type": "code",
      "source": [
        "from sklearn.metrics import f1_score\n",
        "predictions = rest_model.predict(val_gen)\n",
        "# Extract true labels from the validation generator\n",
        "true_labels = val_gen.classes\n",
        "# Convert predictions to class labels by taking the argmax along the columns\n",
        "predicted_labels = predictions.argmax(axis=1)\n",
        "# Calculate the F1 score\n",
        "f1 = f1_score(true_labels, predicted_labels, average='weighted')  # Use 'weighted' for multi-class classification\n",
        "print(f'F1 Score: {f1:.4f}')\n"
      ],
      "metadata": {
        "id": "OLrhlNORvB0u",
        "colab": {
          "base_uri": "https://localhost:8080/"
        },
        "outputId": "e37b89dd-60a2-495f-c451-6b0e7d91a42b"
      },
      "execution_count": 5,
      "outputs": [
        {
          "output_type": "stream",
          "name": "stdout",
          "text": [
            "550/550 [==============================] - 735s 1s/step\n",
            "F1 Score: 0.0024\n"
          ]
        }
      ]
    },
    {
      "cell_type": "code",
      "source": [
        "h=history.history\n",
        "h.keys()"
      ],
      "metadata": {
        "colab": {
          "base_uri": "https://localhost:8080/"
        },
        "id": "TCsueZ8JVP9u",
        "outputId": "ba85271b-1ba2-4e43-d304-f265ce6f3e9e"
      },
      "execution_count": 7,
      "outputs": [
        {
          "output_type": "execute_result",
          "data": {
            "text/plain": [
              "dict_keys(['loss', 'accuracy', 'val_loss', 'val_accuracy'])"
            ]
          },
          "metadata": {},
          "execution_count": 7
        }
      ]
    },
    {
      "cell_type": "code",
      "source": [
        "plt.plot(h['accuracy'])\n",
        "plt.plot(h['val_accuracy'], c= \"red\")\n",
        "plt.title(\"acc vs v-acc\")\n",
        "plt.show()"
      ],
      "metadata": {
        "id": "hVnGOYaAvB4D",
        "colab": {
          "base_uri": "https://localhost:8080/",
          "height": 452
        },
        "outputId": "4b56ec9f-45c4-46d3-b2cb-0e8649ca56a9"
      },
      "execution_count": 8,
      "outputs": [
        {
          "output_type": "display_data",
          "data": {
            "text/plain": [
              "<Figure size 640x480 with 1 Axes>"
            ],
            "image/png": "[encoded data removed]"
          },
          "metadata": {}
        }
      ]
    },
    {
      "cell_type": "code",
      "source": [
        "plt.plot(h['loss'])\n",
        "plt.plot(h['val_loss'], c= \"red\")\n",
        "plt.title(\"loss vs v-loss\")\n",
        "plt.show()"
      ],
      "metadata": {
        "id": "fd7BKPwzvB6I",
        "colab": {
          "base_uri": "https://localhost:8080/",
          "height": 452
        },
        "outputId": "0ce2190b-458c-40fb-db6e-a2248526d308"
      },
      "execution_count": 9,
      "outputs": [
        {
          "output_type": "display_data",
          "data": {
            "text/plain": [
              "<Figure size 640x480 with 1 Axes>"
            ],
            "image/png": "[encoded data removed]"
          },
          "metadata": {}
        }
      ]
    },
    {
      "cell_type": "code",
      "source": [
        "#load best model\n",
        "\n",
        "from keras.models import load_model\n",
        "model = load_model(\"/content/best_model.h5\")\n",
        "#from keras.models import load_model\n",
        "model = load_model(\"/content/best_model.h5\")\n",
        "ref = dict(zip(list(train_gen.class_indices.values()),list(train_gen.class_indices.keys())))\n",
        "ref\n",
        "def prediction(path):\n",
        "  img = load_img(path, target_size= (256,256))\n",
        "  i = img_to_array(img)\n",
        "  im = preprocess_input(i)\n",
        "  img = np.expand_dims(im, axis =0)\n",
        "  pred =np.argmax(model.predict(img))\n",
        "  print(f\" the image belongs to {ref[pred]}\")"
      ],
      "metadata": {
        "id": "YJiyaS97vB9c"
      },
      "execution_count": 10,
      "outputs": []
    },
    {
      "cell_type": "code",
      "source": [
        "from tensorflow.keras.preprocessing.image import load_img,  img_to_array\n",
        "\n",
        "path = \"/content/drive/MyDrive/data/test/test/PotatoEarlyBlight1.JPG\"\n",
        "prediction(path)"
      ],
      "metadata": {
        "id": "LtTgotrH1GZW",
        "colab": {
          "base_uri": "https://localhost:8080/"
        },
        "outputId": "5cf17e5a-83bc-4cc2-87d3-1a6045c42dc3"
      },
      "execution_count": 11,
      "outputs": [
        {
          "output_type": "stream",
          "name": "stdout",
          "text": [
            "1/1 [==============================] - 0s 273ms/step\n",
            " the image belongs to Tomato___Tomato_mosaic_virus\n"
          ]
        }
      ]
    },
    {
      "cell_type": "code",
      "source": [
        "path = \"/content/drive/MyDrive/data/test/test/TomatoYellowCurlVirus3.JPG\"\n",
        "prediction(path)"
      ],
      "metadata": {
        "id": "v_vBPhNX1Gfe",
        "colab": {
          "base_uri": "https://localhost:8080/"
        },
        "outputId": "94891492-d29d-4aec-b83e-8f34603c1f30"
      },
      "execution_count": 12,
      "outputs": [
        {
          "output_type": "stream",
          "name": "stdout",
          "text": [
            "1/1 [==============================] - 0s 56ms/step\n",
            " the image belongs to Corn_(maize)___Common_rust_\n"
          ]
        }
      ]
    },
    {
      "cell_type": "code",
      "source": [
        "path = \"/content/drive/MyDrive/data/test/test/PotatoHealthy1.JPG\"\n",
        "prediction(path)"
      ],
      "metadata": {
        "id": "Ib9DjA501Gmo",
        "colab": {
          "base_uri": "https://localhost:8080/"
        },
        "outputId": "32736f3e-a8ff-40fe-e8ba-1ac877d82e3c"
      },
      "execution_count": 13,
      "outputs": [
        {
          "output_type": "stream",
          "name": "stdout",
          "text": [
            "1/1 [==============================] - 0s 49ms/step\n",
            " the image belongs to Corn_(maize)___Common_rust_\n"
          ]
        }
      ]
    },
    {
      "cell_type": "code",
      "source": [],
      "metadata": {
        "id": "pO6zVR4O1Gph"
      },
      "execution_count": null,
      "outputs": []
    }
  ]
}